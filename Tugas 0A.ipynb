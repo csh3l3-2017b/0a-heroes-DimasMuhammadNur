{
 "cells": [
  {
   "cell_type": "code",
   "execution_count": 1,
   "metadata": {
    "collapsed": true
   },
   "outputs": [],
   "source": [
    "import pandas as pd"
   ]
  },
  {
   "cell_type": "markdown",
   "metadata": {},
   "source": [
    "Import pandas untuk library untuk memanggil file test.csv"
   ]
  },
  {
   "cell_type": "code",
   "execution_count": 3,
   "metadata": {},
   "outputs": [],
   "source": [
    "file_data = pd.read_csv(\"C:/Users/dimasMnurhadi/Documents/Machine Learning/test.csv\")"
   ]
  },
  {
   "cell_type": "markdown",
   "metadata": {},
   "source": [
    "Syntax diatas adalah untuk memanggil file test.scv\n",
    "dari file diatas tersebut, kita langsung bisa mengerjakan kriteria soal yang sudah dibuat dan akan di eksekusi.\n",
    "\n",
    "1.Heroes yang memiliki movementSpeed >= 270, akan mendapat peran sebagai MARKSMAN (huruf kapital semua)\n",
    "2.Heroes dengan mana >= 500, akan mendapat peran sebagai MAGE (huruf kapital semua)\n",
    "3.Heroes dengan armor >= 25, akan mendapat peran sebagai TANK (huruf kapital semua)\n",
    "4.Heroes dengan physicalAttack >= 121, akan mendapat peran sebagai ASSASSIN (huruf kapital semua)\n",
    "5.Heroes dengan hp >= 2580, akan mendapat peran sebagai FIGHTER (huruf kapital semua)\n",
    "6.Heroes lainnya akan mendapat peran sebagai SUPPORT (huruf kapital semua)\n"
   ]
  },
  {
   "cell_type": "code",
   "execution_count": 6,
   "metadata": {},
   "outputs": [],
   "source": [
    "Peran_hero = []\n",
    "for i in range(len(file_data)):\n",
    "    if file_data[\"movementSpeed\"][i] >= 270:\n",
    "        Peran_hero.append(\"MARKSMAN\")\n",
    "    elif file_data[\"mana\"][i] >= 500:\n",
    "        Peran_hero.append(\"MAGE\")\n",
    "    elif file_data[\"armor\"][i] >= 25:\n",
    "        Peran_hero.append(\"TANK\")\n",
    "    elif file_data[\"physicalAttack\"][i] >= 121:\n",
    "        Peran_hero.append(\"ASSASSIN\")\n",
    "    elif file_data[\"hp\"][i] >= 2580:\n",
    "        Peran_hero.append(\"FIGHTER\")\n",
    "    else:\n",
    "        Peran_hero.append(\"SUPPORT\")"
   ]
  },
  {
   "cell_type": "markdown",
   "metadata": {},
   "source": [
    "Syntax diatas merupakan kondisi-kondisi yang dapat mengeksekusi dari heroes-sesuai ketentuan yang terdapat di soal.\n",
    "\n",
    "Setelah itu kita membuat row baru yang berisikan syntax untuk menampilkan nama heroes dan peran heroes."
   ]
  },
  {
   "cell_type": "code",
   "execution_count": 10,
   "metadata": {},
   "outputs": [],
   "source": [
    "char_hero = pd.DataFrame({\"Name\" : file_data[\"name\"],\"Role\" : Peran_hero})"
   ]
  },
  {
   "cell_type": "code",
   "execution_count": 11,
   "metadata": {
    "collapsed": true
   },
   "outputs": [],
   "source": [
    "char_hero.to_csv(\"prediction.csv\", index = False)"
   ]
  },
  {
   "cell_type": "markdown",
   "metadata": {},
   "source": [
    "syntax  (index = False) diatas agar tidak menampilkan index pada setiap data pada tabel prediction. \n",
    "dan keseluruhan syntax pada row 11 untuk menampung hasil algoritma yang ada diatas."
   ]
  },
  {
   "cell_type": "code",
   "execution_count": null,
   "metadata": {
    "collapsed": true
   },
   "outputs": [],
   "source": []
  }
 ],
 "metadata": {
  "kernelspec": {
   "display_name": "Python 3",
   "language": "python",
   "name": "python3"
  },
  "language_info": {
   "codemirror_mode": {
    "name": "ipython",
    "version": 3
   },
   "file_extension": ".py",
   "mimetype": "text/x-python",
   "name": "python",
   "nbconvert_exporter": "python",
   "pygments_lexer": "ipython3",
   "version": "3.6.3"
  }
 },
 "nbformat": 4,
 "nbformat_minor": 2
}
